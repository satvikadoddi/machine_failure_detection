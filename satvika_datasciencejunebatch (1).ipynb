{
  "nbformat": 4,
  "nbformat_minor": 0,
  "metadata": {
    "colab": {
      "provenance": []
    },
    "kernelspec": {
      "name": "python3",
      "display_name": "Python 3"
    },
    "language_info": {
      "name": "python"
    }
  },
  "cells": [
    {
      "cell_type": "code",
      "execution_count": null,
      "metadata": {
        "id": "MGnEugLrmVYi"
      },
      "outputs": [],
      "source": [
        "# Problem 1\n",
        "# In a cricket tournament, based on the outcome of a particular match a team gets following points:\n",
        "\n",
        "# wins gets 7 points\n",
        "# draws gets 2 points\n",
        "# losses gets 0 points\n",
        "# Team Aravali plays 8 matches in this tournament. It wins 4 matches, loses 3 matches and draws 1. What is the total number of points gained by the Team aravali ?\n",
        "\n",
        "\n",
        "# a) The outcome variables are defined below?\n",
        "# b) Calculate the total points gained by Team Aravali and print.\n",
        "\n"
      ]
    },
    {
      "cell_type": "code",
      "source": [
        "#defined variables\n",
        "wins_pt=7\n",
        "draws_pt=2\n",
        "losses_pt=0\n",
        "wins=4\n",
        "draws=1\n",
        "losses=3\n",
        "\n",
        "#total points\n",
        "total_p=(wins*wins_pt)+(losses*losses_pt)+(draws*draws_pt)\n",
        "print(total_p)"
      ],
      "metadata": {
        "colab": {
          "base_uri": "https://localhost:8080/"
        },
        "id": "oxtZkGAEmdo4",
        "outputId": "bd594227-e344-4c4b-8673-016c6eafb1a4"
      },
      "execution_count": 1,
      "outputs": [
        {
          "output_type": "stream",
          "name": "stdout",
          "text": [
            "30\n"
          ]
        }
      ]
    },
    {
      "cell_type": "code",
      "source": [
        "# Problem 2\n",
        "# Root of a function  f(x)  is defined as the value  x  where  f(x)=0\n",
        "# Consider a quadratic function  f(x)=x2+3x−4\n",
        "# Find the value of the function  f(x)  at points  x=7,x=−1,x=1 .\n",
        "#   a)Calculate the value of the function f(x) at x = 2.\n",
        "#   b) Calculate the value of the function f(x) at x = 1\n",
        "\n"
      ],
      "metadata": {
        "id": "f7hvmxQTml3g"
      },
      "execution_count": null,
      "outputs": []
    },
    {
      "cell_type": "code",
      "source": [
        "def f(x):\n",
        "    return x**2 + 3*x - 4\n",
        "x_values = [7, -1, 1, 2, 1]\n",
        "results = {x: f(x) for x in x_values}\n",
        "for x, value in results.items():\n",
        "    print(f\"f({x}) = {value}\")"
      ],
      "metadata": {
        "colab": {
          "base_uri": "https://localhost:8080/"
        },
        "id": "OtXHH3PSmmij",
        "outputId": "35895c6d-bb2b-420b-bd01-f4c78f8b58e4"
      },
      "execution_count": 2,
      "outputs": [
        {
          "output_type": "stream",
          "name": "stdout",
          "text": [
            "f(7) = 66\n",
            "f(-1) = -6\n",
            "f(1) = 0\n",
            "f(2) = 6\n"
          ]
        }
      ]
    },
    {
      "cell_type": "code",
      "source": [
        "# Problem 3\n",
        "# A list contains the average daily temperature(in degree Celsius) of a city over a particular week. Write a Python code to swap the highest and the lowest temperatures\n",
        "\n",
        "# a) A list containing average daily temperature over a week\n",
        "# temperatures = [34, 40, 29, 33, 42, 37, 39 ]\n",
        "\n",
        "# b) The expected output\n",
        "\n",
        "\n",
        "\n",
        "# c)Store the highest temperature\n",
        "\n",
        "\n",
        "# d) Index of the element with the highest temperature\n",
        "# max_temp_index =\n",
        "\n",
        "\n",
        "# e) Store the lowest temperature\n",
        "# min_temp =\n",
        "\n",
        "# f) Index of the element with the lowest temperature\n",
        "# min_temp_index ="
      ],
      "metadata": {
        "id": "KfOpoCQAmoyu"
      },
      "execution_count": null,
      "outputs": []
    },
    {
      "cell_type": "code",
      "source": [
        "temperatures = [34, 40, 29, 33, 42, 37, 39 ]#store the temperatures in a list\n",
        "max_temp=max(temperatures) #store the highest temperature\n",
        "max_temp_index=temperatures.index(max_temp) #store the index of highest temperature\n",
        "min_temp=min(temperatures) #store the minimum temperature\n",
        "min_temp_index=temperatures.index(min_temp) #store the index of minimum temperature\n",
        "temperatures[max_temp_index],temperatures[min_temp_index]=temperatures[min_temp_index],temperatures[max_temp_index]  #swap maximum and minimum temperatures\n",
        "print(temperatures) #print the expected output\n"
      ],
      "metadata": {
        "colab": {
          "base_uri": "https://localhost:8080/"
        },
        "id": "74c6hFojmrIU",
        "outputId": "2a89f06e-a204-41ea-80b8-47838372ddde"
      },
      "execution_count": 3,
      "outputs": [
        {
          "output_type": "stream",
          "name": "stdout",
          "text": [
            "[34, 40, 42, 33, 29, 37, 39]\n"
          ]
        }
      ]
    },
    {
      "cell_type": "code",
      "source": [
        "# problem 4\n",
        "\n",
        "# Calculate the median price\n",
        "\n",
        "# a) Step 1 - Obtain the sorted list\n",
        "# b)Check if the number of elements in the list is even or odd\n",
        "# c)Use the corresponding formula to calculate the median and print the median\n",
        "# d) Check which is greater, mean or median"
      ],
      "metadata": {
        "id": "xiey6Z0jmt_9"
      },
      "execution_count": null,
      "outputs": []
    },
    {
      "cell_type": "code",
      "source": [
        "list=[]\n",
        "n=int(input('Number of elements in the list are:'))\n",
        "for i in range(0,n):\n",
        "  element=int(input())\n",
        "  list.append(element)\n",
        "  list.sort()#a)obtain the sorted list\n",
        "print(list)\n",
        "a=len(list)\n",
        "if a%2==0:\n",
        "  print('the number of elements in the list are even') # b)Check if the number of elements in the list is even or odd\n",
        "  median = (list[a // 2 - 1] + list[a // 2]) / 2  # c)Use the corresponding formula to calculate the median\n",
        "else:\n",
        "  print('the number of elements in the list are odd')  # b)Check if the number of elements in the list is even or odd\n",
        "  median = list[a // 2]  # c)Use the corresponding formula to calculate the median and print the median\n",
        "print(median) #print the median\n",
        "mean=sum(list)/n\n",
        "if mean>median:  #d)Check which is greater, mean or median\n",
        "  print('mean is greater')\n",
        "else:\n",
        "  print('median is greater')"
      ],
      "metadata": {
        "colab": {
          "base_uri": "https://localhost:8080/"
        },
        "id": "_WCWtSKkmxqR",
        "outputId": "09900525-bd34-42d4-cf80-6172bc50d7f5"
      },
      "execution_count": 4,
      "outputs": [
        {
          "output_type": "stream",
          "name": "stdout",
          "text": [
            "Number of elements in the list are:2\n",
            "50\n",
            "63\n",
            "[50, 63]\n",
            "the number of elements in the list are even\n",
            "56.5\n",
            "median is greater\n"
          ]
        }
      ]
    },
    {
      "cell_type": "code",
      "source": [
        "# Problem 5\n",
        "# Having a nested list sometimes might be a bit problematic. An individual was asked to collect the names of companies in the technology sector.\n",
        "#  While creating the list, by mistake the last three companies were subsumed in a list as shown below. You are required to get rid of the nesting\n",
        "\n",
        "# a)The list of tech companies curated by the individual\n",
        "# tech_companies = ['Qualcomm','Google','Apple',['Nvidia','Cisco','Samsung']]\n"
      ],
      "metadata": {
        "id": "gPgVIQmRm3dj"
      },
      "execution_count": null,
      "outputs": []
    },
    {
      "cell_type": "code",
      "source": [
        "tech_companies = ['Qualcomm', 'Google', 'Apple', ['Nvidia', 'Cisco', 'Samsung']]\n",
        "tech_companies1 = tech_companies[:3] + tech_companies[3]\n",
        "print(tech_companies1)\n"
      ],
      "metadata": {
        "colab": {
          "base_uri": "https://localhost:8080/"
        },
        "id": "iXEnfB44m6zy",
        "outputId": "67cca099-2cba-4b02-8464-140f6a09ce4d"
      },
      "execution_count": 5,
      "outputs": [
        {
          "output_type": "stream",
          "name": "stdout",
          "text": [
            "['Qualcomm', 'Google', 'Apple', 'Nvidia', 'Cisco', 'Samsung']\n"
          ]
        }
      ]
    },
    {
      "cell_type": "code",
      "source": [
        "# Problem 6\n",
        "# Another measure of average\n",
        "# Mode is defined as the value that appears most often in a set of data values. Mode corresponds to the most frequent value.\n",
        "# You are given a list of numbers and you need to calculate the mode of this list.\n",
        "\n",
        "#  A list containing average daily temperature over 10 days\n",
        "# temperatures = [34, 40, 29, 33, 42, 40, 39, 34, 34,33 ]\n",
        "\n",
        "\n"
      ],
      "metadata": {
        "id": "ykEEu9RMm8ZF"
      },
      "execution_count": null,
      "outputs": []
    },
    {
      "cell_type": "code",
      "source": [
        "import statistics\n",
        "temperatures = [34, 40, 29, 33, 42, 40, 39, 34, 34,33 ]\n",
        "print(statistics.mode(temperatures))"
      ],
      "metadata": {
        "colab": {
          "base_uri": "https://localhost:8080/"
        },
        "id": "eWoMrLXFm_w1",
        "outputId": "b930b15b-b65c-4c9a-d0dd-ab7b7d2f02ff"
      },
      "execution_count": 6,
      "outputs": [
        {
          "output_type": "stream",
          "name": "stdout",
          "text": [
            "34\n"
          ]
        }
      ]
    }
  ]
}